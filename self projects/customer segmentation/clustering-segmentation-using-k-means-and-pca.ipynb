{
 "cells": [
  {
   "cell_type": "markdown",
   "id": "b1d82de2",
   "metadata": {
    "papermill": {
     "duration": 0.035053,
     "end_time": "2021-12-14T09:41:03.848388",
     "exception": false,
     "start_time": "2021-12-14T09:41:03.813335",
     "status": "completed"
    },
    "tags": []
   },
   "source": [
    "## Understanding Data"
   ]
  },
  {
   "cell_type": "code",
   "execution_count": 1,
   "id": "d5046158",
   "metadata": {
    "execution": {
     "iopub.execute_input": "2021-12-14T09:41:03.926097Z",
     "iopub.status.busy": "2021-12-14T09:41:03.925452Z",
     "iopub.status.idle": "2021-12-14T09:41:05.112148Z",
     "shell.execute_reply": "2021-12-14T09:41:05.111188Z",
     "shell.execute_reply.started": "2021-12-14T09:40:09.192619Z"
    },
    "papermill": {
     "duration": 1.230276,
     "end_time": "2021-12-14T09:41:05.112351",
     "exception": false,
     "start_time": "2021-12-14T09:41:03.882075",
     "status": "completed"
    },
    "tags": []
   },
   "outputs": [],
   "source": [
    "import numpy as np, pandas as pd\n",
    "import matplotlib.pyplot as plt, seaborn as sns\n",
    "%matplotlib inline"
   ]
  },
  {
   "cell_type": "code",
   "execution_count": 2,
   "id": "4fc73ae8",
   "metadata": {
    "execution": {
     "iopub.execute_input": "2021-12-14T09:41:05.187157Z",
     "iopub.status.busy": "2021-12-14T09:41:05.186445Z",
     "iopub.status.idle": "2021-12-14T09:41:05.202849Z",
     "shell.execute_reply": "2021-12-14T09:41:05.202093Z",
     "shell.execute_reply.started": "2021-12-14T09:40:09.202953Z"
    },
    "papermill": {
     "duration": 0.055677,
     "end_time": "2021-12-14T09:41:05.203047",
     "exception": false,
     "start_time": "2021-12-14T09:41:05.147370",
     "status": "completed"
    },
    "tags": []
   },
   "outputs": [],
   "source": [
    "df=pd.read_csv(\"../input/mall-customers-kmeans-pcacsv/Mall_Customers_Kmeans_PCA.csv\")"
   ]
  },
  {
   "cell_type": "code",
   "execution_count": 3,
   "id": "3233fcd6",
   "metadata": {
    "execution": {
     "iopub.execute_input": "2021-12-14T09:41:05.273664Z",
     "iopub.status.busy": "2021-12-14T09:41:05.272855Z",
     "iopub.status.idle": "2021-12-14T09:41:05.293558Z",
     "shell.execute_reply": "2021-12-14T09:41:05.294133Z",
     "shell.execute_reply.started": "2021-12-14T09:40:09.229369Z"
    },
    "papermill": {
     "duration": 0.057735,
     "end_time": "2021-12-14T09:41:05.294345",
     "exception": false,
     "start_time": "2021-12-14T09:41:05.236610",
     "status": "completed"
    },
    "tags": []
   },
   "outputs": [
    {
     "data": {
      "text/html": [
       "<div>\n",
       "<style scoped>\n",
       "    .dataframe tbody tr th:only-of-type {\n",
       "        vertical-align: middle;\n",
       "    }\n",
       "\n",
       "    .dataframe tbody tr th {\n",
       "        vertical-align: top;\n",
       "    }\n",
       "\n",
       "    .dataframe thead th {\n",
       "        text-align: right;\n",
       "    }\n",
       "</style>\n",
       "<table border=\"1\" class=\"dataframe\">\n",
       "  <thead>\n",
       "    <tr style=\"text-align: right;\">\n",
       "      <th></th>\n",
       "      <th>CustomerID</th>\n",
       "      <th>Gender</th>\n",
       "      <th>Age</th>\n",
       "      <th>Annual Income (k$)</th>\n",
       "      <th>Spending Score (1-100)</th>\n",
       "    </tr>\n",
       "  </thead>\n",
       "  <tbody>\n",
       "    <tr>\n",
       "      <th>0</th>\n",
       "      <td>1</td>\n",
       "      <td>Male</td>\n",
       "      <td>19</td>\n",
       "      <td>15</td>\n",
       "      <td>39</td>\n",
       "    </tr>\n",
       "    <tr>\n",
       "      <th>1</th>\n",
       "      <td>2</td>\n",
       "      <td>Male</td>\n",
       "      <td>21</td>\n",
       "      <td>15</td>\n",
       "      <td>81</td>\n",
       "    </tr>\n",
       "    <tr>\n",
       "      <th>2</th>\n",
       "      <td>3</td>\n",
       "      <td>Female</td>\n",
       "      <td>20</td>\n",
       "      <td>16</td>\n",
       "      <td>6</td>\n",
       "    </tr>\n",
       "    <tr>\n",
       "      <th>3</th>\n",
       "      <td>4</td>\n",
       "      <td>Female</td>\n",
       "      <td>23</td>\n",
       "      <td>16</td>\n",
       "      <td>77</td>\n",
       "    </tr>\n",
       "    <tr>\n",
       "      <th>4</th>\n",
       "      <td>5</td>\n",
       "      <td>Female</td>\n",
       "      <td>31</td>\n",
       "      <td>17</td>\n",
       "      <td>40</td>\n",
       "    </tr>\n",
       "  </tbody>\n",
       "</table>\n",
       "</div>"
      ],
      "text/plain": [
       "   CustomerID  Gender  Age  Annual Income (k$)  Spending Score (1-100)\n",
       "0           1    Male   19                  15                      39\n",
       "1           2    Male   21                  15                      81\n",
       "2           3  Female   20                  16                       6\n",
       "3           4  Female   23                  16                      77\n",
       "4           5  Female   31                  17                      40"
      ]
     },
     "execution_count": 3,
     "metadata": {},
     "output_type": "execute_result"
    }
   ],
   "source": [
    "df.head()"
   ]
  },
  {
   "cell_type": "code",
   "execution_count": 4,
   "id": "7a29670e",
   "metadata": {
    "execution": {
     "iopub.execute_input": "2021-12-14T09:41:05.366714Z",
     "iopub.status.busy": "2021-12-14T09:41:05.364940Z",
     "iopub.status.idle": "2021-12-14T09:41:05.391656Z",
     "shell.execute_reply": "2021-12-14T09:41:05.391014Z",
     "shell.execute_reply.started": "2021-12-14T09:40:09.254871Z"
    },
    "papermill": {
     "duration": 0.063706,
     "end_time": "2021-12-14T09:41:05.391824",
     "exception": false,
     "start_time": "2021-12-14T09:41:05.328118",
     "status": "completed"
    },
    "tags": []
   },
   "outputs": [
    {
     "name": "stdout",
     "output_type": "stream",
     "text": [
      "<class 'pandas.core.frame.DataFrame'>\n",
      "RangeIndex: 200 entries, 0 to 199\n",
      "Data columns (total 5 columns):\n",
      " #   Column                  Non-Null Count  Dtype \n",
      "---  ------                  --------------  ----- \n",
      " 0   CustomerID              200 non-null    int64 \n",
      " 1   Gender                  200 non-null    object\n",
      " 2   Age                     200 non-null    int64 \n",
      " 3   Annual Income (k$)      200 non-null    int64 \n",
      " 4   Spending Score (1-100)  200 non-null    int64 \n",
      "dtypes: int64(4), object(1)\n",
      "memory usage: 7.9+ KB\n"
     ]
    }
   ],
   "source": [
    "df.info()"
   ]
  },
  {
   "cell_type": "code",
   "execution_count": 5,
   "id": "7056acfe",
   "metadata": {
    "execution": {
     "iopub.execute_input": "2021-12-14T09:41:05.467732Z",
     "iopub.status.busy": "2021-12-14T09:41:05.466972Z",
     "iopub.status.idle": "2021-12-14T09:41:05.469536Z",
     "shell.execute_reply": "2021-12-14T09:41:05.470220Z",
     "shell.execute_reply.started": "2021-12-14T09:40:09.284669Z"
    },
    "papermill": {
     "duration": 0.0434,
     "end_time": "2021-12-14T09:41:05.470451",
     "exception": false,
     "start_time": "2021-12-14T09:41:05.427051",
     "status": "completed"
    },
    "tags": []
   },
   "outputs": [],
   "source": [
    "## For convinence rename the attributes Annual INcome(k$) and Spending Score (1-100)\n",
    "\n",
    "df.rename({'Annual Income (k$)':'Income',  \\\n",
    "          'Spending Score (1-100)':'Spend_Score'}, axis=1,inplace=True)"
   ]
  },
  {
   "cell_type": "code",
   "execution_count": 6,
   "id": "7ffcd5f4",
   "metadata": {
    "execution": {
     "iopub.execute_input": "2021-12-14T09:41:05.554717Z",
     "iopub.status.busy": "2021-12-14T09:41:05.553956Z",
     "iopub.status.idle": "2021-12-14T09:41:05.556890Z",
     "shell.execute_reply": "2021-12-14T09:41:05.557398Z",
     "shell.execute_reply.started": "2021-12-14T09:40:09.291555Z"
    },
    "papermill": {
     "duration": 0.050412,
     "end_time": "2021-12-14T09:41:05.557599",
     "exception": false,
     "start_time": "2021-12-14T09:41:05.507187",
     "status": "completed"
    },
    "tags": []
   },
   "outputs": [
    {
     "data": {
      "text/html": [
       "<div>\n",
       "<style scoped>\n",
       "    .dataframe tbody tr th:only-of-type {\n",
       "        vertical-align: middle;\n",
       "    }\n",
       "\n",
       "    .dataframe tbody tr th {\n",
       "        vertical-align: top;\n",
       "    }\n",
       "\n",
       "    .dataframe thead th {\n",
       "        text-align: right;\n",
       "    }\n",
       "</style>\n",
       "<table border=\"1\" class=\"dataframe\">\n",
       "  <thead>\n",
       "    <tr style=\"text-align: right;\">\n",
       "      <th></th>\n",
       "      <th>CustomerID</th>\n",
       "      <th>Gender</th>\n",
       "      <th>Age</th>\n",
       "      <th>Income</th>\n",
       "      <th>Spend_Score</th>\n",
       "    </tr>\n",
       "  </thead>\n",
       "  <tbody>\n",
       "    <tr>\n",
       "      <th>0</th>\n",
       "      <td>1</td>\n",
       "      <td>Male</td>\n",
       "      <td>19</td>\n",
       "      <td>15</td>\n",
       "      <td>39</td>\n",
       "    </tr>\n",
       "    <tr>\n",
       "      <th>1</th>\n",
       "      <td>2</td>\n",
       "      <td>Male</td>\n",
       "      <td>21</td>\n",
       "      <td>15</td>\n",
       "      <td>81</td>\n",
       "    </tr>\n",
       "    <tr>\n",
       "      <th>2</th>\n",
       "      <td>3</td>\n",
       "      <td>Female</td>\n",
       "      <td>20</td>\n",
       "      <td>16</td>\n",
       "      <td>6</td>\n",
       "    </tr>\n",
       "    <tr>\n",
       "      <th>3</th>\n",
       "      <td>4</td>\n",
       "      <td>Female</td>\n",
       "      <td>23</td>\n",
       "      <td>16</td>\n",
       "      <td>77</td>\n",
       "    </tr>\n",
       "    <tr>\n",
       "      <th>4</th>\n",
       "      <td>5</td>\n",
       "      <td>Female</td>\n",
       "      <td>31</td>\n",
       "      <td>17</td>\n",
       "      <td>40</td>\n",
       "    </tr>\n",
       "  </tbody>\n",
       "</table>\n",
       "</div>"
      ],
      "text/plain": [
       "   CustomerID  Gender  Age  Income  Spend_Score\n",
       "0           1    Male   19      15           39\n",
       "1           2    Male   21      15           81\n",
       "2           3  Female   20      16            6\n",
       "3           4  Female   23      16           77\n",
       "4           5  Female   31      17           40"
      ]
     },
     "execution_count": 6,
     "metadata": {},
     "output_type": "execute_result"
    }
   ],
   "source": [
    "df.head()"
   ]
  },
  {
   "cell_type": "code",
   "execution_count": 7,
   "id": "4483ad2c",
   "metadata": {
    "execution": {
     "iopub.execute_input": "2021-12-14T09:41:05.630454Z",
     "iopub.status.busy": "2021-12-14T09:41:05.629775Z",
     "iopub.status.idle": "2021-12-14T09:41:05.655447Z",
     "shell.execute_reply": "2021-12-14T09:41:05.655995Z",
     "shell.execute_reply.started": "2021-12-14T09:40:09.312419Z"
    },
    "papermill": {
     "duration": 0.063868,
     "end_time": "2021-12-14T09:41:05.656202",
     "exception": false,
     "start_time": "2021-12-14T09:41:05.592334",
     "status": "completed"
    },
    "tags": []
   },
   "outputs": [
    {
     "data": {
      "text/html": [
       "<div>\n",
       "<style scoped>\n",
       "    .dataframe tbody tr th:only-of-type {\n",
       "        vertical-align: middle;\n",
       "    }\n",
       "\n",
       "    .dataframe tbody tr th {\n",
       "        vertical-align: top;\n",
       "    }\n",
       "\n",
       "    .dataframe thead th {\n",
       "        text-align: right;\n",
       "    }\n",
       "</style>\n",
       "<table border=\"1\" class=\"dataframe\">\n",
       "  <thead>\n",
       "    <tr style=\"text-align: right;\">\n",
       "      <th></th>\n",
       "      <th>CustomerID</th>\n",
       "      <th>Age</th>\n",
       "      <th>Income</th>\n",
       "      <th>Spend_Score</th>\n",
       "    </tr>\n",
       "  </thead>\n",
       "  <tbody>\n",
       "    <tr>\n",
       "      <th>count</th>\n",
       "      <td>200.000000</td>\n",
       "      <td>200.000000</td>\n",
       "      <td>200.000000</td>\n",
       "      <td>200.000000</td>\n",
       "    </tr>\n",
       "    <tr>\n",
       "      <th>mean</th>\n",
       "      <td>100.500000</td>\n",
       "      <td>38.850000</td>\n",
       "      <td>60.560000</td>\n",
       "      <td>50.200000</td>\n",
       "    </tr>\n",
       "    <tr>\n",
       "      <th>std</th>\n",
       "      <td>57.879185</td>\n",
       "      <td>13.969007</td>\n",
       "      <td>26.264721</td>\n",
       "      <td>25.823522</td>\n",
       "    </tr>\n",
       "    <tr>\n",
       "      <th>min</th>\n",
       "      <td>1.000000</td>\n",
       "      <td>18.000000</td>\n",
       "      <td>15.000000</td>\n",
       "      <td>1.000000</td>\n",
       "    </tr>\n",
       "    <tr>\n",
       "      <th>25%</th>\n",
       "      <td>50.750000</td>\n",
       "      <td>28.750000</td>\n",
       "      <td>41.500000</td>\n",
       "      <td>34.750000</td>\n",
       "    </tr>\n",
       "    <tr>\n",
       "      <th>50%</th>\n",
       "      <td>100.500000</td>\n",
       "      <td>36.000000</td>\n",
       "      <td>61.500000</td>\n",
       "      <td>50.000000</td>\n",
       "    </tr>\n",
       "    <tr>\n",
       "      <th>75%</th>\n",
       "      <td>150.250000</td>\n",
       "      <td>49.000000</td>\n",
       "      <td>78.000000</td>\n",
       "      <td>73.000000</td>\n",
       "    </tr>\n",
       "    <tr>\n",
       "      <th>max</th>\n",
       "      <td>200.000000</td>\n",
       "      <td>70.000000</td>\n",
       "      <td>137.000000</td>\n",
       "      <td>99.000000</td>\n",
       "    </tr>\n",
       "  </tbody>\n",
       "</table>\n",
       "</div>"
      ],
      "text/plain": [
       "       CustomerID         Age      Income  Spend_Score\n",
       "count  200.000000  200.000000  200.000000   200.000000\n",
       "mean   100.500000   38.850000   60.560000    50.200000\n",
       "std     57.879185   13.969007   26.264721    25.823522\n",
       "min      1.000000   18.000000   15.000000     1.000000\n",
       "25%     50.750000   28.750000   41.500000    34.750000\n",
       "50%    100.500000   36.000000   61.500000    50.000000\n",
       "75%    150.250000   49.000000   78.000000    73.000000\n",
       "max    200.000000   70.000000  137.000000    99.000000"
      ]
     },
     "execution_count": 7,
     "metadata": {},
     "output_type": "execute_result"
    }
   ],
   "source": [
    "## To get a high-level understanding on the numerical fields and print out the descriptive summary, lets use describe method()\n",
    "\n",
    "df.describe()"
   ]
  },
  {
   "cell_type": "markdown",
   "id": "948a6342",
   "metadata": {
    "papermill": {
     "duration": 0.034841,
     "end_time": "2021-12-14T09:41:05.726100",
     "exception": false,
     "start_time": "2021-12-14T09:41:05.691259",
     "status": "completed"
    },
    "tags": []
   },
   "source": [
    "## Traditional Segmentation"
   ]
  },
  {
   "cell_type": "code",
   "execution_count": 8,
   "id": "fb7c7324",
   "metadata": {
    "execution": {
     "iopub.execute_input": "2021-12-14T09:41:05.810376Z",
     "iopub.status.busy": "2021-12-14T09:41:05.809601Z",
     "iopub.status.idle": "2021-12-14T09:41:06.104257Z",
     "shell.execute_reply": "2021-12-14T09:41:06.103557Z",
     "shell.execute_reply.started": "2021-12-14T09:40:09.348767Z"
    },
    "papermill": {
     "duration": 0.343374,
     "end_time": "2021-12-14T09:41:06.104437",
     "exception": false,
     "start_time": "2021-12-14T09:41:05.761063",
     "status": "completed"
    },
    "tags": []
   },
   "outputs": [
    {
     "data": {
      "text/plain": [
       "<AxesSubplot:xlabel='Income', ylabel='Count'>"
      ]
     },
     "execution_count": 8,
     "metadata": {},
     "output_type": "execute_result"
    },
    {
     "data": {
      "image/png": "[encoded data removed]",
      "text/plain": [
       "<Figure size 432x288 with 1 Axes>"
      ]
     },
     "metadata": {
      "needs_background": "light"
     },
     "output_type": "display_data"
    }
   ],
   "source": [
    "sns.histplot(data=df, x=\"Income\")"
   ]
  },
  {
   "cell_type": "markdown",
   "id": "48b37b36",
   "metadata": {
    "papermill": {
     "duration": 0.036731,
     "end_time": "2021-12-14T09:41:06.177160",
     "exception": false,
     "start_time": "2021-12-14T09:41:06.140429",
     "status": "completed"
    },
    "tags": []
   },
   "source": [
    "Beyond 90k, the frequency in the bins falls sharply and it seems that these \n",
    "customers can naturally be considered a separate group representing high-income customers. A good proportion of customers seems to lie in the 50k-90k \n",
    "range. These can be considered moderate-income customers. Customers \n",
    "earning less than 40k would be low-income customers. "
   ]
  },
  {
   "cell_type": "code",
   "execution_count": 9,
   "id": "ff059eb0",
   "metadata": {
    "execution": {
     "iopub.execute_input": "2021-12-14T09:41:06.253734Z",
     "iopub.status.busy": "2021-12-14T09:41:06.252847Z",
     "iopub.status.idle": "2021-12-14T09:41:06.259149Z",
     "shell.execute_reply": "2021-12-14T09:41:06.259776Z",
     "shell.execute_reply.started": "2021-12-14T09:40:09.654319Z"
    },
    "papermill": {
     "duration": 0.046736,
     "end_time": "2021-12-14T09:41:06.260021",
     "exception": false,
     "start_time": "2021-12-14T09:41:06.213285",
     "status": "completed"
    },
    "tags": []
   },
   "outputs": [],
   "source": [
    "## Creating three clusters based on the above understanding\n",
    "\n",
    "df['Cluster']=np.where(df.Income >= 90, 'High_Earners',\n",
    "                      np.where(df.Income < 50, 'Low_Income', 'Moderate_Income'))"
   ]
  },
  {
   "cell_type": "code",
   "execution_count": 10,
   "id": "9f11d746",
   "metadata": {
    "execution": {
     "iopub.execute_input": "2021-12-14T09:41:06.336471Z",
     "iopub.status.busy": "2021-12-14T09:41:06.335535Z",
     "iopub.status.idle": "2021-12-14T09:41:06.365088Z",
     "shell.execute_reply": "2021-12-14T09:41:06.365735Z",
     "shell.execute_reply.started": "2021-12-14T09:40:09.663532Z"
    },
    "papermill": {
     "duration": 0.070094,
     "end_time": "2021-12-14T09:41:06.365985",
     "exception": false,
     "start_time": "2021-12-14T09:41:06.295891",
     "status": "completed"
    },
    "tags": []
   },
   "outputs": [
    {
     "data": {
      "text/html": [
       "<div>\n",
       "<style scoped>\n",
       "    .dataframe tbody tr th:only-of-type {\n",
       "        vertical-align: middle;\n",
       "    }\n",
       "\n",
       "    .dataframe tbody tr th {\n",
       "        vertical-align: top;\n",
       "    }\n",
       "\n",
       "    .dataframe thead th {\n",
       "        text-align: right;\n",
       "    }\n",
       "</style>\n",
       "<table border=\"1\" class=\"dataframe\">\n",
       "  <thead>\n",
       "    <tr style=\"text-align: right;\">\n",
       "      <th></th>\n",
       "      <th>count</th>\n",
       "      <th>mean</th>\n",
       "      <th>std</th>\n",
       "      <th>min</th>\n",
       "      <th>25%</th>\n",
       "      <th>50%</th>\n",
       "      <th>75%</th>\n",
       "      <th>max</th>\n",
       "    </tr>\n",
       "    <tr>\n",
       "      <th>Cluster</th>\n",
       "      <th></th>\n",
       "      <th></th>\n",
       "      <th></th>\n",
       "      <th></th>\n",
       "      <th></th>\n",
       "      <th></th>\n",
       "      <th></th>\n",
       "      <th></th>\n",
       "    </tr>\n",
       "  </thead>\n",
       "  <tbody>\n",
       "    <tr>\n",
       "      <th>High_Earners</th>\n",
       "      <td>22.0</td>\n",
       "      <td>108.181818</td>\n",
       "      <td>13.661334</td>\n",
       "      <td>93.0</td>\n",
       "      <td>98.25</td>\n",
       "      <td>103.0</td>\n",
       "      <td>118.25</td>\n",
       "      <td>137.0</td>\n",
       "    </tr>\n",
       "    <tr>\n",
       "      <th>Low_Income</th>\n",
       "      <td>72.0</td>\n",
       "      <td>33.027778</td>\n",
       "      <td>11.091136</td>\n",
       "      <td>15.0</td>\n",
       "      <td>22.50</td>\n",
       "      <td>33.5</td>\n",
       "      <td>43.00</td>\n",
       "      <td>49.0</td>\n",
       "    </tr>\n",
       "    <tr>\n",
       "      <th>Moderate_Income</th>\n",
       "      <td>106.0</td>\n",
       "      <td>69.377358</td>\n",
       "      <td>10.651584</td>\n",
       "      <td>50.0</td>\n",
       "      <td>61.00</td>\n",
       "      <td>70.0</td>\n",
       "      <td>78.00</td>\n",
       "      <td>88.0</td>\n",
       "    </tr>\n",
       "  </tbody>\n",
       "</table>\n",
       "</div>"
      ],
      "text/plain": [
       "                 count        mean        std   min    25%    50%     75%  \\\n",
       "Cluster                                                                     \n",
       "High_Earners      22.0  108.181818  13.661334  93.0  98.25  103.0  118.25   \n",
       "Low_Income        72.0   33.027778  11.091136  15.0  22.50   33.5   43.00   \n",
       "Moderate_Income  106.0   69.377358  10.651584  50.0  61.00   70.0   78.00   \n",
       "\n",
       "                   max  \n",
       "Cluster                 \n",
       "High_Earners     137.0  \n",
       "Low_Income        49.0  \n",
       "Moderate_Income   88.0  "
      ]
     },
     "execution_count": 10,
     "metadata": {},
     "output_type": "execute_result"
    }
   ],
   "source": [
    "df.groupby('Cluster')['Income'].describe()"
   ]
  },
  {
   "cell_type": "markdown",
   "id": "7fe466dd",
   "metadata": {
    "papermill": {
     "duration": 0.036416,
     "end_time": "2021-12-14T09:41:06.439245",
     "exception": false,
     "start_time": "2021-12-14T09:41:06.402829",
     "status": "completed"
    },
    "tags": []
   },
   "source": [
    "#### Standardising the numerical attributes"
   ]
  },
  {
   "cell_type": "code",
   "execution_count": 11,
   "id": "b3849ffd",
   "metadata": {
    "execution": {
     "iopub.execute_input": "2021-12-14T09:41:06.516570Z",
     "iopub.status.busy": "2021-12-14T09:41:06.515891Z",
     "iopub.status.idle": "2021-12-14T09:41:06.649443Z",
     "shell.execute_reply": "2021-12-14T09:41:06.650069Z",
     "shell.execute_reply.started": "2021-12-14T09:40:09.705214Z"
    },
    "papermill": {
     "duration": 0.174354,
     "end_time": "2021-12-14T09:41:06.650292",
     "exception": false,
     "start_time": "2021-12-14T09:41:06.475938",
     "status": "completed"
    },
    "tags": []
   },
   "outputs": [],
   "source": [
    "from sklearn.preprocessing import StandardScaler\n",
    "scaler=StandardScaler()"
   ]
  },
  {
   "cell_type": "code",
   "execution_count": 12,
   "id": "cbbba7fb",
   "metadata": {
    "execution": {
     "iopub.execute_input": "2021-12-14T09:41:06.726923Z",
     "iopub.status.busy": "2021-12-14T09:41:06.726149Z",
     "iopub.status.idle": "2021-12-14T09:41:06.730600Z",
     "shell.execute_reply": "2021-12-14T09:41:06.731175Z",
     "shell.execute_reply.started": "2021-12-14T09:40:09.849823Z"
    },
    "papermill": {
     "duration": 0.044671,
     "end_time": "2021-12-14T09:41:06.731385",
     "exception": false,
     "start_time": "2021-12-14T09:41:06.686714",
     "status": "completed"
    },
    "tags": []
   },
   "outputs": [],
   "source": [
    "columns_to_scale = ['Age','Income','Spend_Score']\n",
    "data_scaled=df.copy()"
   ]
  },
  {
   "cell_type": "code",
   "execution_count": 13,
   "id": "35acc50a",
   "metadata": {
    "execution": {
     "iopub.execute_input": "2021-12-14T09:41:06.809341Z",
     "iopub.status.busy": "2021-12-14T09:41:06.808532Z",
     "iopub.status.idle": "2021-12-14T09:41:06.819037Z",
     "shell.execute_reply": "2021-12-14T09:41:06.819628Z",
     "shell.execute_reply.started": "2021-12-14T09:40:09.861788Z"
    },
    "papermill": {
     "duration": 0.051881,
     "end_time": "2021-12-14T09:41:06.819838",
     "exception": false,
     "start_time": "2021-12-14T09:41:06.767957",
     "status": "completed"
    },
    "tags": []
   },
   "outputs": [],
   "source": [
    "data_scaled[columns_to_scale] = scaler.fit_transform(df[columns_to_scale])"
   ]
  },
  {
   "cell_type": "code",
   "execution_count": 14,
   "id": "d9d1297b",
   "metadata": {
    "execution": {
     "iopub.execute_input": "2021-12-14T09:41:06.896955Z",
     "iopub.status.busy": "2021-12-14T09:41:06.896202Z",
     "iopub.status.idle": "2021-12-14T09:41:06.918622Z",
     "shell.execute_reply": "2021-12-14T09:41:06.919198Z",
     "shell.execute_reply.started": "2021-12-14T09:40:09.879052Z"
    },
    "papermill": {
     "duration": 0.062887,
     "end_time": "2021-12-14T09:41:06.919425",
     "exception": false,
     "start_time": "2021-12-14T09:41:06.856538",
     "status": "completed"
    },
    "tags": []
   },
   "outputs": [
    {
     "data": {
      "text/html": [
       "<div>\n",
       "<style scoped>\n",
       "    .dataframe tbody tr th:only-of-type {\n",
       "        vertical-align: middle;\n",
       "    }\n",
       "\n",
       "    .dataframe tbody tr th {\n",
       "        vertical-align: top;\n",
       "    }\n",
       "\n",
       "    .dataframe thead th {\n",
       "        text-align: right;\n",
       "    }\n",
       "</style>\n",
       "<table border=\"1\" class=\"dataframe\">\n",
       "  <thead>\n",
       "    <tr style=\"text-align: right;\">\n",
       "      <th></th>\n",
       "      <th>Age</th>\n",
       "      <th>Income</th>\n",
       "      <th>Spend_Score</th>\n",
       "    </tr>\n",
       "  </thead>\n",
       "  <tbody>\n",
       "    <tr>\n",
       "      <th>count</th>\n",
       "      <td>2.000000e+02</td>\n",
       "      <td>2.000000e+02</td>\n",
       "      <td>2.000000e+02</td>\n",
       "    </tr>\n",
       "    <tr>\n",
       "      <th>mean</th>\n",
       "      <td>-9.603429e-17</td>\n",
       "      <td>-6.128431e-16</td>\n",
       "      <td>-1.121325e-16</td>\n",
       "    </tr>\n",
       "    <tr>\n",
       "      <th>std</th>\n",
       "      <td>1.002509e+00</td>\n",
       "      <td>1.002509e+00</td>\n",
       "      <td>1.002509e+00</td>\n",
       "    </tr>\n",
       "    <tr>\n",
       "      <th>min</th>\n",
       "      <td>-1.496335e+00</td>\n",
       "      <td>-1.738999e+00</td>\n",
       "      <td>-1.910021e+00</td>\n",
       "    </tr>\n",
       "    <tr>\n",
       "      <th>25%</th>\n",
       "      <td>-7.248436e-01</td>\n",
       "      <td>-7.275093e-01</td>\n",
       "      <td>-5.997931e-01</td>\n",
       "    </tr>\n",
       "    <tr>\n",
       "      <th>50%</th>\n",
       "      <td>-2.045351e-01</td>\n",
       "      <td>3.587926e-02</td>\n",
       "      <td>-7.764312e-03</td>\n",
       "    </tr>\n",
       "    <tr>\n",
       "      <th>75%</th>\n",
       "      <td>7.284319e-01</td>\n",
       "      <td>6.656748e-01</td>\n",
       "      <td>8.851316e-01</td>\n",
       "    </tr>\n",
       "    <tr>\n",
       "      <th>max</th>\n",
       "      <td>2.235532e+00</td>\n",
       "      <td>2.917671e+00</td>\n",
       "      <td>1.894492e+00</td>\n",
       "    </tr>\n",
       "  </tbody>\n",
       "</table>\n",
       "</div>"
      ],
      "text/plain": [
       "                Age        Income   Spend_Score\n",
       "count  2.000000e+02  2.000000e+02  2.000000e+02\n",
       "mean  -9.603429e-17 -6.128431e-16 -1.121325e-16\n",
       "std    1.002509e+00  1.002509e+00  1.002509e+00\n",
       "min   -1.496335e+00 -1.738999e+00 -1.910021e+00\n",
       "25%   -7.248436e-01 -7.275093e-01 -5.997931e-01\n",
       "50%   -2.045351e-01  3.587926e-02 -7.764312e-03\n",
       "75%    7.284319e-01  6.656748e-01  8.851316e-01\n",
       "max    2.235532e+00  2.917671e+00  1.894492e+00"
      ]
     },
     "execution_count": 14,
     "metadata": {},
     "output_type": "execute_result"
    }
   ],
   "source": [
    "data_scaled[columns_to_scale].describe()"
   ]
  },
  {
   "cell_type": "markdown",
   "id": "cb50cc2e",
   "metadata": {
    "papermill": {
     "duration": 0.036727,
     "end_time": "2021-12-14T09:41:06.993231",
     "exception": false,
     "start_time": "2021-12-14T09:41:06.956504",
     "status": "completed"
    },
    "tags": []
   },
   "source": [
    "## Euclidean Distance or Euclidean Measure"
   ]
  },
  {
   "cell_type": "code",
   "execution_count": 15,
   "id": "90120a9b",
   "metadata": {
    "execution": {
     "iopub.execute_input": "2021-12-14T09:41:07.073971Z",
     "iopub.status.busy": "2021-12-14T09:41:07.072827Z",
     "iopub.status.idle": "2021-12-14T09:41:07.084226Z",
     "shell.execute_reply": "2021-12-14T09:41:07.084725Z",
     "shell.execute_reply.started": "2021-12-14T09:40:09.910954Z"
    },
    "papermill": {
     "duration": 0.054716,
     "end_time": "2021-12-14T09:41:07.084956",
     "exception": false,
     "start_time": "2021-12-14T09:41:07.030240",
     "status": "completed"
    },
    "tags": []
   },
   "outputs": [
    {
     "data": {
      "text/html": [
       "<div>\n",
       "<style scoped>\n",
       "    .dataframe tbody tr th:only-of-type {\n",
       "        vertical-align: middle;\n",
       "    }\n",
       "\n",
       "    .dataframe tbody tr th {\n",
       "        vertical-align: top;\n",
       "    }\n",
       "\n",
       "    .dataframe thead th {\n",
       "        text-align: right;\n",
       "    }\n",
       "</style>\n",
       "<table border=\"1\" class=\"dataframe\">\n",
       "  <thead>\n",
       "    <tr style=\"text-align: right;\">\n",
       "      <th></th>\n",
       "      <th>Income</th>\n",
       "      <th>Spend_Score</th>\n",
       "    </tr>\n",
       "  </thead>\n",
       "  <tbody>\n",
       "    <tr>\n",
       "      <th>0</th>\n",
       "      <td>-1.738999</td>\n",
       "      <td>-0.434801</td>\n",
       "    </tr>\n",
       "    <tr>\n",
       "      <th>1</th>\n",
       "      <td>-1.738999</td>\n",
       "      <td>1.195704</td>\n",
       "    </tr>\n",
       "    <tr>\n",
       "      <th>2</th>\n",
       "      <td>-1.700830</td>\n",
       "      <td>-1.715913</td>\n",
       "    </tr>\n",
       "  </tbody>\n",
       "</table>\n",
       "</div>"
      ],
      "text/plain": [
       "     Income  Spend_Score\n",
       "0 -1.738999    -0.434801\n",
       "1 -1.738999     1.195704\n",
       "2 -1.700830    -1.715913"
      ]
     },
     "execution_count": 15,
     "metadata": {},
     "output_type": "execute_result"
    }
   ],
   "source": [
    "sel_cols=['Income','Spend_Score']\n",
    "cust3=data_scaled[sel_cols].head(3)\n",
    "cust3"
   ]
  },
  {
   "cell_type": "code",
   "execution_count": 16,
   "id": "1dff1482",
   "metadata": {
    "execution": {
     "iopub.execute_input": "2021-12-14T09:41:07.166139Z",
     "iopub.status.busy": "2021-12-14T09:41:07.165087Z",
     "iopub.status.idle": "2021-12-14T09:41:07.167969Z",
     "shell.execute_reply": "2021-12-14T09:41:07.167417Z",
     "shell.execute_reply.started": "2021-12-14T09:40:09.924949Z"
    },
    "papermill": {
     "duration": 0.04576,
     "end_time": "2021-12-14T09:41:07.168145",
     "exception": false,
     "start_time": "2021-12-14T09:41:07.122385",
     "status": "completed"
    },
    "tags": []
   },
   "outputs": [],
   "source": [
    "from scipy.spatial.distance import cdist\n"
   ]
  },
  {
   "cell_type": "code",
   "execution_count": 17,
   "id": "380b82d4",
   "metadata": {
    "execution": {
     "iopub.execute_input": "2021-12-14T09:41:07.249737Z",
     "iopub.status.busy": "2021-12-14T09:41:07.249041Z",
     "iopub.status.idle": "2021-12-14T09:41:07.255238Z",
     "shell.execute_reply": "2021-12-14T09:41:07.255882Z",
     "shell.execute_reply.started": "2021-12-14T09:40:09.938869Z"
    },
    "papermill": {
     "duration": 0.049675,
     "end_time": "2021-12-14T09:41:07.256098",
     "exception": false,
     "start_time": "2021-12-14T09:41:07.206423",
     "status": "completed"
    },
    "tags": []
   },
   "outputs": [
    {
     "data": {
      "text/plain": [
       "array([[0.        , 1.63050555, 1.28167999],\n",
       "       [1.63050555, 0.        , 2.91186723],\n",
       "       [1.28167999, 2.91186723, 0.        ]])"
      ]
     },
     "execution_count": 17,
     "metadata": {},
     "output_type": "execute_result"
    }
   ],
   "source": [
    "cdist(cust3, cust3, metric='euclidean')"
   ]
  },
  {
   "cell_type": "code",
   "execution_count": 18,
   "id": "8d387df4",
   "metadata": {
    "execution": {
     "iopub.execute_input": "2021-12-14T09:41:07.339109Z",
     "iopub.status.busy": "2021-12-14T09:41:07.338334Z",
     "iopub.status.idle": "2021-12-14T09:41:07.343763Z",
     "shell.execute_reply": "2021-12-14T09:41:07.344357Z",
     "shell.execute_reply.started": "2021-12-14T09:40:09.955025Z"
    },
    "papermill": {
     "duration": 0.048236,
     "end_time": "2021-12-14T09:41:07.344565",
     "exception": false,
     "start_time": "2021-12-14T09:41:07.296329",
     "status": "completed"
    },
    "tags": []
   },
   "outputs": [
    {
     "data": {
      "text/plain": [
       "1.6305"
      ]
     },
     "execution_count": 18,
     "metadata": {},
     "output_type": "execute_result"
    }
   ],
   "source": [
    "# verify the Eucliean distance between Income and Spend_Score\n",
    "\n",
    "np.sqrt((-1.739+1.739)**2 + (-0.4348-1.1957)**2)"
   ]
  },
  {
   "cell_type": "markdown",
   "id": "8a7fcf1e",
   "metadata": {
    "papermill": {
     "duration": 0.037878,
     "end_time": "2021-12-14T09:41:07.421701",
     "exception": false,
     "start_time": "2021-12-14T09:41:07.383823",
     "status": "completed"
    },
    "tags": []
   },
   "source": [
    "## K-means Clustering Algorithm"
   ]
  },
  {
   "cell_type": "markdown",
   "id": "83231e9d",
   "metadata": {
    "papermill": {
     "duration": 0.037797,
     "end_time": "2021-12-14T09:41:07.497644",
     "exception": false,
     "start_time": "2021-12-14T09:41:07.459847",
     "status": "completed"
    },
    "tags": []
   },
   "source": [
    "K-means clustering is a very common unsupervised learning technique with a wide \n",
    "range of applications. It is powerful because it is conceptually relatively simple, scales \n",
    "to very large datasets, and tends to work well in practice. \n",
    "\n",
    "In this section, you will learn \n",
    "1) the conceptual foundations of k-means clustering,\n",
    "\n",
    "2) how to apply k-means clustering to data\n",
    "\n",
    "3) how to deal with high-dimensional data (that is, data with many different variables) in the context of clustering"
   ]
  },
  {
   "cell_type": "markdown",
   "id": "eedb7d40",
   "metadata": {
    "papermill": {
     "duration": 0.04007,
     "end_time": "2021-12-14T09:41:07.576844",
     "exception": false,
     "start_time": "2021-12-14T09:41:07.536774",
     "status": "completed"
    },
    "tags": []
   },
   "source": [
    "K-means clustering is an algorithm that tries to find the best way of grouping data \n",
    "points into k different groups, where k is a parameter given to the algorithm. For \n",
    "now, we will choose k arbitrarily. We will revisit how to choose k in practice in the next \n",
    "chapter. The algorithm then works iteratively to try to find the best grouping. There \n",
    "are two steps to this algorithm:\n",
    "1. The algorithm begins by randomly selecting k points in space to be the centroids of the clusters. Each data point is then assigned to the centroid that is closest to it.\n",
    "2. The centroids are updated to be the mean of all of the data points assigned to them. The data points are then reassigned to the centroid closest to them.\n",
    "\n",
    "Step 2 is repeated until none of the data points change the centroid they are assigned \n",
    "to after the centroid is updated.\n",
    "\n",
    "One point to note here is that this algorithm is not deterministic, that is, the outcome \n",
    "of the algorithm depends on the starting locations of the centroids. Therefore, it is \n",
    "not always guaranteed to find the best grouping. However, in practice, it tends to find \n",
    "good groupings while still being computationally inexpensive even for large datasets. \n",
    "K-means clustering is fast and easily scalable and is, therefore, the most common \n",
    "clustering algorithm used."
   ]
  },
  {
   "cell_type": "code",
   "execution_count": 19,
   "id": "c4afbcaa",
   "metadata": {
    "execution": {
     "iopub.execute_input": "2021-12-14T09:41:07.658987Z",
     "iopub.status.busy": "2021-12-14T09:41:07.658082Z",
     "iopub.status.idle": "2021-12-14T09:41:07.671230Z",
     "shell.execute_reply": "2021-12-14T09:41:07.670409Z",
     "shell.execute_reply.started": "2021-12-14T09:40:09.968679Z"
    },
    "papermill": {
     "duration": 0.056049,
     "end_time": "2021-12-14T09:41:07.671425",
     "exception": false,
     "start_time": "2021-12-14T09:41:07.615376",
     "status": "completed"
    },
    "tags": []
   },
   "outputs": [
    {
     "data": {
      "text/html": [
       "<div>\n",
       "<style scoped>\n",
       "    .dataframe tbody tr th:only-of-type {\n",
       "        vertical-align: middle;\n",
       "    }\n",
       "\n",
       "    .dataframe tbody tr th {\n",
       "        vertical-align: top;\n",
       "    }\n",
       "\n",
       "    .dataframe thead th {\n",
       "        text-align: right;\n",
       "    }\n",
       "</style>\n",
       "<table border=\"1\" class=\"dataframe\">\n",
       "  <thead>\n",
       "    <tr style=\"text-align: right;\">\n",
       "      <th></th>\n",
       "      <th>Income</th>\n",
       "      <th>Spend_Score</th>\n",
       "    </tr>\n",
       "  </thead>\n",
       "  <tbody>\n",
       "    <tr>\n",
       "      <th>0</th>\n",
       "      <td>-1.738999</td>\n",
       "      <td>-0.434801</td>\n",
       "    </tr>\n",
       "    <tr>\n",
       "      <th>1</th>\n",
       "      <td>-1.738999</td>\n",
       "      <td>1.195704</td>\n",
       "    </tr>\n",
       "    <tr>\n",
       "      <th>2</th>\n",
       "      <td>-1.700830</td>\n",
       "      <td>-1.715913</td>\n",
       "    </tr>\n",
       "  </tbody>\n",
       "</table>\n",
       "</div>"
      ],
      "text/plain": [
       "     Income  Spend_Score\n",
       "0 -1.738999    -0.434801\n",
       "1 -1.738999     1.195704\n",
       "2 -1.700830    -1.715913"
      ]
     },
     "execution_count": 19,
     "metadata": {},
     "output_type": "execute_result"
    }
   ],
   "source": [
    "cluster_cols=['Income','Spend_Score']\n",
    "cust4=data_scaled[cluster_cols].head(3)\n",
    "cust4"
   ]
  },
  {
   "cell_type": "code",
   "execution_count": 20,
   "id": "9a028681",
   "metadata": {
    "execution": {
     "iopub.execute_input": "2021-12-14T09:41:07.755529Z",
     "iopub.status.busy": "2021-12-14T09:41:07.754697Z",
     "iopub.status.idle": "2021-12-14T09:41:08.026306Z",
     "shell.execute_reply": "2021-12-14T09:41:08.026857Z",
     "shell.execute_reply.started": "2021-12-14T09:40:09.989146Z"
    },
    "papermill": {
     "duration": 0.316952,
     "end_time": "2021-12-14T09:41:08.027105",
     "exception": false,
     "start_time": "2021-12-14T09:41:07.710153",
     "status": "completed"
    },
    "tags": []
   },
   "outputs": [
    {
     "name": "stdout",
     "output_type": "stream",
     "text": [
      "From the plot, there are 5 natural clusters in the data. This tells us that we need to specify 5 as the number of clusters for the k-means algorithm\n"
     ]
    },
    {
     "data": {
      "image/png": "[encoded data removed]",
      "text/plain": [
       "<Figure size 432x288 with 1 Axes>"
      ]
     },
     "metadata": {
      "needs_background": "light"
     },
     "output_type": "display_data"
    }
   ],
   "source": [
    "data_scaled.plot.scatter(x='Income', y='Spend_Score', \\\n",
    "                         color='maroon')\n",
    "\n",
    "print(\"From the plot, there are 5 natural clusters in the data. This tells us that we need to specify 5 as the number of clusters for the k-means algorithm\")"
   ]
  },
  {
   "cell_type": "code",
   "execution_count": 21,
   "id": "716542de",
   "metadata": {
    "execution": {
     "iopub.execute_input": "2021-12-14T09:41:08.114040Z",
     "iopub.status.busy": "2021-12-14T09:41:08.113304Z",
     "iopub.status.idle": "2021-12-14T09:41:08.459104Z",
     "shell.execute_reply": "2021-12-14T09:41:08.458444Z",
     "shell.execute_reply.started": "2021-12-14T09:40:10.274561Z"
    },
    "papermill": {
     "duration": 0.39144,
     "end_time": "2021-12-14T09:41:08.459276",
     "exception": false,
     "start_time": "2021-12-14T09:41:08.067836",
     "status": "completed"
    },
    "tags": []
   },
   "outputs": [
    {
     "name": "stdout",
     "output_type": "stream",
     "text": [
      "The model instance is created. Note that no clustering has been performed on the data yet. n_clusters specifies the number of clusters to create as 5. Specifying a random state ensures that we get the same results on repeated executions since the k-means algorithm is not deterministic. 42 is an arbitrary choice\n"
     ]
    }
   ],
   "source": [
    "from sklearn.cluster import KMeans\n",
    "model=KMeans(n_clusters=5, random_state=42)\n",
    "\n",
    "print(\"The model instance is created. Note that no clustering has been performed on the data yet. n_clusters specifies the number of clusters to create as 5. Specifying a random state ensures that we get the same results on repeated executions since the k-means algorithm is not deterministic. 42 is an arbitrary choice\")"
   ]
  },
  {
   "cell_type": "code",
   "execution_count": 22,
   "id": "aeda09db",
   "metadata": {
    "execution": {
     "iopub.execute_input": "2021-12-14T09:41:08.552121Z",
     "iopub.status.busy": "2021-12-14T09:41:08.550886Z",
     "iopub.status.idle": "2021-12-14T09:41:08.602021Z",
     "shell.execute_reply": "2021-12-14T09:41:08.601379Z",
     "shell.execute_reply.started": "2021-12-14T09:40:10.592429Z"
    },
    "papermill": {
     "duration": 0.101484,
     "end_time": "2021-12-14T09:41:08.602204",
     "exception": false,
     "start_time": "2021-12-14T09:41:08.500720",
     "status": "completed"
    },
    "tags": []
   },
   "outputs": [
    {
     "name": "stdout",
     "output_type": "stream",
     "text": [
      "fit the model on the data using the columns in cluster_cols for the purpose. Using the predict method of the k-means model, assign the cluster for each customer to the 'Cluster' variable. Print the first three records of the data_scaled dataset\n"
     ]
    }
   ],
   "source": [
    "model.fit(data_scaled[cluster_cols])\n",
    "data_scaled['Clusters']=model.predict(data_scaled[cluster_cols])\n",
    "print(\"fit the model on the data using the columns in cluster_cols for the purpose. Using the predict method of the k-means model, assign the cluster for each customer to the 'Cluster' variable. Print the first three records of the data_scaled dataset\")"
   ]
  },
  {
   "cell_type": "code",
   "execution_count": 23,
   "id": "324b33f0",
   "metadata": {
    "execution": {
     "iopub.execute_input": "2021-12-14T09:41:08.690376Z",
     "iopub.status.busy": "2021-12-14T09:41:08.689268Z",
     "iopub.status.idle": "2021-12-14T09:41:08.703497Z",
     "shell.execute_reply": "2021-12-14T09:41:08.704177Z",
     "shell.execute_reply.started": "2021-12-14T09:40:10.649074Z"
    },
    "papermill": {
     "duration": 0.059257,
     "end_time": "2021-12-14T09:41:08.704391",
     "exception": false,
     "start_time": "2021-12-14T09:41:08.645134",
     "status": "completed"
    },
    "tags": []
   },
   "outputs": [
    {
     "data": {
      "text/html": [
       "<div>\n",
       "<style scoped>\n",
       "    .dataframe tbody tr th:only-of-type {\n",
       "        vertical-align: middle;\n",
       "    }\n",
       "\n",
       "    .dataframe tbody tr th {\n",
       "        vertical-align: top;\n",
       "    }\n",
       "\n",
       "    .dataframe thead th {\n",
       "        text-align: right;\n",
       "    }\n",
       "</style>\n",
       "<table border=\"1\" class=\"dataframe\">\n",
       "  <thead>\n",
       "    <tr style=\"text-align: right;\">\n",
       "      <th></th>\n",
       "      <th>CustomerID</th>\n",
       "      <th>Gender</th>\n",
       "      <th>Age</th>\n",
       "      <th>Income</th>\n",
       "      <th>Spend_Score</th>\n",
       "      <th>Cluster</th>\n",
       "      <th>Clusters</th>\n",
       "    </tr>\n",
       "  </thead>\n",
       "  <tbody>\n",
       "    <tr>\n",
       "      <th>0</th>\n",
       "      <td>1</td>\n",
       "      <td>Male</td>\n",
       "      <td>-1.424569</td>\n",
       "      <td>-1.738999</td>\n",
       "      <td>-0.434801</td>\n",
       "      <td>Low_Income</td>\n",
       "      <td>3</td>\n",
       "    </tr>\n",
       "    <tr>\n",
       "      <th>1</th>\n",
       "      <td>2</td>\n",
       "      <td>Male</td>\n",
       "      <td>-1.281035</td>\n",
       "      <td>-1.738999</td>\n",
       "      <td>1.195704</td>\n",
       "      <td>Low_Income</td>\n",
       "      <td>0</td>\n",
       "    </tr>\n",
       "    <tr>\n",
       "      <th>2</th>\n",
       "      <td>3</td>\n",
       "      <td>Female</td>\n",
       "      <td>-1.352802</td>\n",
       "      <td>-1.700830</td>\n",
       "      <td>-1.715913</td>\n",
       "      <td>Low_Income</td>\n",
       "      <td>3</td>\n",
       "    </tr>\n",
       "  </tbody>\n",
       "</table>\n",
       "</div>"
      ],
      "text/plain": [
       "   CustomerID  Gender       Age    Income  Spend_Score     Cluster  Clusters\n",
       "0           1    Male -1.424569 -1.738999    -0.434801  Low_Income         3\n",
       "1           2    Male -1.281035 -1.738999     1.195704  Low_Income         0\n",
       "2           3  Female -1.352802 -1.700830    -1.715913  Low_Income         3"
      ]
     },
     "execution_count": 23,
     "metadata": {},
     "output_type": "execute_result"
    }
   ],
   "source": [
    "data_scaled.head(3)"
   ]
  },
  {
   "cell_type": "code",
   "execution_count": 24,
   "id": "834f0366",
   "metadata": {
    "execution": {
     "iopub.execute_input": "2021-12-14T09:41:08.795800Z",
     "iopub.status.busy": "2021-12-14T09:41:08.794218Z",
     "iopub.status.idle": "2021-12-14T09:41:09.101419Z",
     "shell.execute_reply": "2021-12-14T09:41:09.100574Z",
     "shell.execute_reply.started": "2021-12-14T09:40:10.667165Z"
    },
    "papermill": {
     "duration": 0.355803,
     "end_time": "2021-12-14T09:41:09.101601",
     "exception": false,
     "start_time": "2021-12-14T09:41:08.745798",
     "status": "completed"
    },
    "tags": []
   },
   "outputs": [
    {
     "data": {
      "image/png": "[encoded data removed]",
      "text/plain": [
       "<Figure size 432x288 with 1 Axes>"
      ]
     },
     "metadata": {
      "needs_background": "light"
     },
     "output_type": "display_data"
    }
   ],
   "source": [
    "markers = ['x', '*', '.','|','_']\n",
    "\n",
    "for clust in range(5):\n",
    "    temp = data_scaled[data_scaled.Clusters == clust]\n",
    "    plt.scatter(temp.Income, temp.Spend_Score, \\\n",
    "                marker=markers[clust], \\\n",
    "                color = 'gray',\\\n",
    "                label=\"Cluster \"+str(clust))\n",
    "plt.xlabel('Income')\n",
    "plt.ylabel('Spend_score')\n",
    "plt.legend()\n",
    "plt.show()"
   ]
  },
  {
   "cell_type": "code",
   "execution_count": 25,
   "id": "0bf64f29",
   "metadata": {
    "execution": {
     "iopub.execute_input": "2021-12-14T09:41:09.204668Z",
     "iopub.status.busy": "2021-12-14T09:41:09.203882Z",
     "iopub.status.idle": "2021-12-14T09:41:09.430137Z",
     "shell.execute_reply": "2021-12-14T09:41:09.429402Z",
     "shell.execute_reply.started": "2021-12-14T09:40:10.960040Z"
    },
    "papermill": {
     "duration": 0.28682,
     "end_time": "2021-12-14T09:41:09.430319",
     "exception": false,
     "start_time": "2021-12-14T09:41:09.143499",
     "status": "completed"
    },
    "tags": []
   },
   "outputs": [
    {
     "data": {
      "image/png": "[encoded data removed]",
      "text/plain": [
       "<Figure size 432x288 with 1 Axes>"
      ]
     },
     "metadata": {
      "needs_background": "light"
     },
     "output_type": "display_data"
    }
   ],
   "source": [
    "df['Clusters']=data_scaled.Clusters\n",
    "df.groupby('Clusters')[['Income','Spend_Score']].mean().plot.bar(color=['gray','black'])\n",
    "plt.show()"
   ]
  },
  {
   "cell_type": "markdown",
   "id": "18f1bcde",
   "metadata": {
    "papermill": {
     "duration": 0.042307,
     "end_time": "2021-12-14T09:41:09.515376",
     "exception": false,
     "start_time": "2021-12-14T09:41:09.473069",
     "status": "completed"
    },
    "tags": []
   },
   "source": [
    "Each cluster can be described as follows:\n",
    "\n",
    "• Cluster 0: Low-income high spenders\n",
    "\n",
    "• Cluster 1: Moderate-income moderate spenders\n",
    "\n",
    "• Cluster 2: High-income low spenders\n",
    "\n",
    "• Cluster 3: Low-income low spenders\n",
    "\n",
    "• Cluster 4: High-income high spender\n"
   ]
  },
  {
   "cell_type": "markdown",
   "id": "6ee87e1f",
   "metadata": {
    "papermill": {
     "duration": 0.042345,
     "end_time": "2021-12-14T09:41:09.601591",
     "exception": false,
     "start_time": "2021-12-14T09:41:09.559246",
     "status": "completed"
    },
    "tags": []
   },
   "source": [
    "## Dimensionality Reduction\n",
    "\n",
    "In the previous mall segementation, we had used Income and Spend Scores attributes for the segementation, what if we add Age, to the segmentation.\n",
    "So far, we performed the Euclidean distance for the two dimensional attributes and Euclidean distance is very well handled for the multi dimensions, once the distance is defined, the usual machine learning algorithms for clustering, say K-means, can be employed.\n",
    "\n",
    "Motivation for Dimensional Reduction:\n",
    "    \n",
    " Since, we have introduced Age as the third dimension, however we need to first reduce the data to two dimensions.\n",
    "\n",
    "\n",
    "Dimensionality reduction techniques are commonly employed for this. The idea of dimensionality reduction is that multi-dimensional data is reduced, usually to \n",
    "two dimensions, for visualization purposes, in a manner that preserves the distance between the points. A simple and intuitive way to understand dimensionality \n",
    "reduction is to consider that pictures and videos we watch on two-dimensional screens are in fact representations of a three-dimensional world, reduced to two \n",
    "dimensions so that they can be visualized on the two-dimensional screen. While we do lose a dimension (depth) in the images, the loss is minimal and does not \n",
    "ruin the viewing experience. Dimensionality reduction, when applied to our multi\u0002dimensional dataset, would condense most of the information into two dimensions to enable visualization\n",
    "\n",
    "\n",
    "\n",
    "\n",
    "## Principal Component Analysis\n",
    "\n",
    "The techniques for dimensionality reduction are many. Will look and apply the most popular approach by far – Principal Component Analysis (PCA). PCA is a method of transforming data. It takes the original features/dimensions and creates \n",
    "new features/dimensions that capture the most variance in the data. In other words, it creates dimensions that contain the most amount of information about the data, so that when you take the first two Principal Components (PCs), that is, dimensions, \n",
    "you are left with most of the information about the data, but reduced to only two dimensions.\n",
    "\n",
    "\n"
   ]
  },
  {
   "cell_type": "markdown",
   "id": "6b11c48e",
   "metadata": {
    "papermill": {
     "duration": 0.04477,
     "end_time": "2021-12-14T09:41:09.689407",
     "exception": false,
     "start_time": "2021-12-14T09:41:09.644637",
     "status": "completed"
    },
    "tags": []
   },
   "source": [
    " using the PCA module from the scikit-learn package. Usage of the package is similar to the usage of the KMeans module. \n",
    " Similar to the KMeans module, the PCA module has fit and transform methods. \n",
    " Fitting would mean calculating the PCs (Principal Components) from the data and transforming would mean \n",
    " representing the data in these new PCs. The fit_transform method combines the two methods.\n",
    " n_components=N, where \"N\" is the number of PCs to calculate, cols is a list of columns to calculate the PCAs from\n",
    " and data is the dataset containing these columns. pca_res would contain the transformed data.\n",
    "\n",
    "\n",
    "from sklearn import decomposition\n",
    "\n",
    "pca = decomposition.PCA(n_components=N)\n",
    "\n",
    "pca_res = pca.fit_transform(data[cols])\n",
    "\n",
    "To summarize the discussion on PCA, when performing clustering with high-dimensional data, the cluster formation approach remains the same. It is just the \n",
    "visualization that now needs an additional step – reduction to two dimensions using \n",
    "a dimensionality reduction technique such as PCA. In the exercise that follows, \n",
    "you will try this firsthand by clustering the mall customers using age, income, and \n",
    "spend score.\n",
    "\n"
   ]
  },
  {
   "cell_type": "code",
   "execution_count": 26,
   "id": "3b47f45c",
   "metadata": {
    "execution": {
     "iopub.execute_input": "2021-12-14T09:41:09.789761Z",
     "iopub.status.busy": "2021-12-14T09:41:09.788713Z",
     "iopub.status.idle": "2021-12-14T09:41:09.792490Z",
     "shell.execute_reply": "2021-12-14T09:41:09.793041Z",
     "shell.execute_reply.started": "2021-12-14T09:40:11.189723Z"
    },
    "papermill": {
     "duration": 0.060794,
     "end_time": "2021-12-14T09:41:09.793256",
     "exception": false,
     "start_time": "2021-12-14T09:41:09.732462",
     "status": "completed"
    },
    "tags": []
   },
   "outputs": [
    {
     "data": {
      "text/html": [
       "<div>\n",
       "<style scoped>\n",
       "    .dataframe tbody tr th:only-of-type {\n",
       "        vertical-align: middle;\n",
       "    }\n",
       "\n",
       "    .dataframe tbody tr th {\n",
       "        vertical-align: top;\n",
       "    }\n",
       "\n",
       "    .dataframe thead th {\n",
       "        text-align: right;\n",
       "    }\n",
       "</style>\n",
       "<table border=\"1\" class=\"dataframe\">\n",
       "  <thead>\n",
       "    <tr style=\"text-align: right;\">\n",
       "      <th></th>\n",
       "      <th>Age</th>\n",
       "      <th>Income</th>\n",
       "      <th>Spend_Score</th>\n",
       "    </tr>\n",
       "  </thead>\n",
       "  <tbody>\n",
       "    <tr>\n",
       "      <th>0</th>\n",
       "      <td>-1.424569</td>\n",
       "      <td>-1.738999</td>\n",
       "      <td>-0.434801</td>\n",
       "    </tr>\n",
       "    <tr>\n",
       "      <th>1</th>\n",
       "      <td>-1.281035</td>\n",
       "      <td>-1.738999</td>\n",
       "      <td>1.195704</td>\n",
       "    </tr>\n",
       "    <tr>\n",
       "      <th>2</th>\n",
       "      <td>-1.352802</td>\n",
       "      <td>-1.700830</td>\n",
       "      <td>-1.715913</td>\n",
       "    </tr>\n",
       "  </tbody>\n",
       "</table>\n",
       "</div>"
      ],
      "text/plain": [
       "        Age    Income  Spend_Score\n",
       "0 -1.424569 -1.738999    -0.434801\n",
       "1 -1.281035 -1.738999     1.195704\n",
       "2 -1.352802 -1.700830    -1.715913"
      ]
     },
     "execution_count": 26,
     "metadata": {},
     "output_type": "execute_result"
    }
   ],
   "source": [
    "cluster_cols = ['Age','Income','Spend_Score'] \n",
    "data_scaled[cluster_cols].head(3)  ## Remember we already scaled these attributes"
   ]
  },
  {
   "cell_type": "code",
   "execution_count": 27,
   "id": "b268a094",
   "metadata": {
    "execution": {
     "iopub.execute_input": "2021-12-14T09:41:09.883665Z",
     "iopub.status.busy": "2021-12-14T09:41:09.882773Z",
     "iopub.status.idle": "2021-12-14T09:41:09.936327Z",
     "shell.execute_reply": "2021-12-14T09:41:09.937051Z",
     "shell.execute_reply.started": "2021-12-14T09:40:11.206897Z"
    },
    "papermill": {
     "duration": 0.101149,
     "end_time": "2021-12-14T09:41:09.937295",
     "exception": false,
     "start_time": "2021-12-14T09:41:09.836146",
     "status": "completed"
    },
    "tags": []
   },
   "outputs": [],
   "source": [
    "model = KMeans(n_clusters=4, random_state=42)\n",
    "model.fit(data_scaled[cluster_cols])\n",
    "\n",
    "data_scaled['Clusters_4'] = model.predict(data_scaled[cluster_cols])"
   ]
  },
  {
   "cell_type": "code",
   "execution_count": 28,
   "id": "2e86cab2",
   "metadata": {
    "execution": {
     "iopub.execute_input": "2021-12-14T09:41:10.048492Z",
     "iopub.status.busy": "2021-12-14T09:41:10.031545Z",
     "iopub.status.idle": "2021-12-14T09:41:10.052522Z",
     "shell.execute_reply": "2021-12-14T09:41:10.053070Z",
     "shell.execute_reply.started": "2021-12-14T09:40:11.263117Z"
    },
    "papermill": {
     "duration": 0.072134,
     "end_time": "2021-12-14T09:41:10.053298",
     "exception": false,
     "start_time": "2021-12-14T09:41:09.981164",
     "status": "completed"
    },
    "tags": []
   },
   "outputs": [
    {
     "data": {
      "text/html": [
       "<div>\n",
       "<style scoped>\n",
       "    .dataframe tbody tr th:only-of-type {\n",
       "        vertical-align: middle;\n",
       "    }\n",
       "\n",
       "    .dataframe tbody tr th {\n",
       "        vertical-align: top;\n",
       "    }\n",
       "\n",
       "    .dataframe thead th {\n",
       "        text-align: right;\n",
       "    }\n",
       "</style>\n",
       "<table border=\"1\" class=\"dataframe\">\n",
       "  <thead>\n",
       "    <tr style=\"text-align: right;\">\n",
       "      <th></th>\n",
       "      <th>CustomerID</th>\n",
       "      <th>Gender</th>\n",
       "      <th>Age</th>\n",
       "      <th>Income</th>\n",
       "      <th>Spend_Score</th>\n",
       "      <th>Cluster</th>\n",
       "      <th>Clusters</th>\n",
       "      <th>Clusters_4</th>\n",
       "    </tr>\n",
       "  </thead>\n",
       "  <tbody>\n",
       "    <tr>\n",
       "      <th>0</th>\n",
       "      <td>1</td>\n",
       "      <td>Male</td>\n",
       "      <td>-1.424569</td>\n",
       "      <td>-1.738999</td>\n",
       "      <td>-0.434801</td>\n",
       "      <td>Low_Income</td>\n",
       "      <td>3</td>\n",
       "      <td>1</td>\n",
       "    </tr>\n",
       "    <tr>\n",
       "      <th>1</th>\n",
       "      <td>2</td>\n",
       "      <td>Male</td>\n",
       "      <td>-1.281035</td>\n",
       "      <td>-1.738999</td>\n",
       "      <td>1.195704</td>\n",
       "      <td>Low_Income</td>\n",
       "      <td>0</td>\n",
       "      <td>1</td>\n",
       "    </tr>\n",
       "    <tr>\n",
       "      <th>2</th>\n",
       "      <td>3</td>\n",
       "      <td>Female</td>\n",
       "      <td>-1.352802</td>\n",
       "      <td>-1.700830</td>\n",
       "      <td>-1.715913</td>\n",
       "      <td>Low_Income</td>\n",
       "      <td>3</td>\n",
       "      <td>1</td>\n",
       "    </tr>\n",
       "    <tr>\n",
       "      <th>3</th>\n",
       "      <td>4</td>\n",
       "      <td>Female</td>\n",
       "      <td>-1.137502</td>\n",
       "      <td>-1.700830</td>\n",
       "      <td>1.040418</td>\n",
       "      <td>Low_Income</td>\n",
       "      <td>0</td>\n",
       "      <td>1</td>\n",
       "    </tr>\n",
       "    <tr>\n",
       "      <th>4</th>\n",
       "      <td>5</td>\n",
       "      <td>Female</td>\n",
       "      <td>-0.563369</td>\n",
       "      <td>-1.662660</td>\n",
       "      <td>-0.395980</td>\n",
       "      <td>Low_Income</td>\n",
       "      <td>3</td>\n",
       "      <td>1</td>\n",
       "    </tr>\n",
       "    <tr>\n",
       "      <th>...</th>\n",
       "      <td>...</td>\n",
       "      <td>...</td>\n",
       "      <td>...</td>\n",
       "      <td>...</td>\n",
       "      <td>...</td>\n",
       "      <td>...</td>\n",
       "      <td>...</td>\n",
       "      <td>...</td>\n",
       "    </tr>\n",
       "    <tr>\n",
       "      <th>195</th>\n",
       "      <td>196</td>\n",
       "      <td>Female</td>\n",
       "      <td>-0.276302</td>\n",
       "      <td>2.268791</td>\n",
       "      <td>1.118061</td>\n",
       "      <td>High_Earners</td>\n",
       "      <td>4</td>\n",
       "      <td>2</td>\n",
       "    </tr>\n",
       "    <tr>\n",
       "      <th>196</th>\n",
       "      <td>197</td>\n",
       "      <td>Female</td>\n",
       "      <td>0.441365</td>\n",
       "      <td>2.497807</td>\n",
       "      <td>-0.861839</td>\n",
       "      <td>High_Earners</td>\n",
       "      <td>2</td>\n",
       "      <td>0</td>\n",
       "    </tr>\n",
       "    <tr>\n",
       "      <th>197</th>\n",
       "      <td>198</td>\n",
       "      <td>Male</td>\n",
       "      <td>-0.491602</td>\n",
       "      <td>2.497807</td>\n",
       "      <td>0.923953</td>\n",
       "      <td>High_Earners</td>\n",
       "      <td>4</td>\n",
       "      <td>2</td>\n",
       "    </tr>\n",
       "    <tr>\n",
       "      <th>198</th>\n",
       "      <td>199</td>\n",
       "      <td>Male</td>\n",
       "      <td>-0.491602</td>\n",
       "      <td>2.917671</td>\n",
       "      <td>-1.250054</td>\n",
       "      <td>High_Earners</td>\n",
       "      <td>2</td>\n",
       "      <td>0</td>\n",
       "    </tr>\n",
       "    <tr>\n",
       "      <th>199</th>\n",
       "      <td>200</td>\n",
       "      <td>Male</td>\n",
       "      <td>-0.635135</td>\n",
       "      <td>2.917671</td>\n",
       "      <td>1.273347</td>\n",
       "      <td>High_Earners</td>\n",
       "      <td>4</td>\n",
       "      <td>2</td>\n",
       "    </tr>\n",
       "  </tbody>\n",
       "</table>\n",
       "<p>200 rows × 8 columns</p>\n",
       "</div>"
      ],
      "text/plain": [
       "     CustomerID  Gender       Age    Income  Spend_Score       Cluster  \\\n",
       "0             1    Male -1.424569 -1.738999    -0.434801    Low_Income   \n",
       "1             2    Male -1.281035 -1.738999     1.195704    Low_Income   \n",
       "2             3  Female -1.352802 -1.700830    -1.715913    Low_Income   \n",
       "3             4  Female -1.137502 -1.700830     1.040418    Low_Income   \n",
       "4             5  Female -0.563369 -1.662660    -0.395980    Low_Income   \n",
       "..          ...     ...       ...       ...          ...           ...   \n",
       "195         196  Female -0.276302  2.268791     1.118061  High_Earners   \n",
       "196         197  Female  0.441365  2.497807    -0.861839  High_Earners   \n",
       "197         198    Male -0.491602  2.497807     0.923953  High_Earners   \n",
       "198         199    Male -0.491602  2.917671    -1.250054  High_Earners   \n",
       "199         200    Male -0.635135  2.917671     1.273347  High_Earners   \n",
       "\n",
       "     Clusters  Clusters_4  \n",
       "0           3           1  \n",
       "1           0           1  \n",
       "2           3           1  \n",
       "3           0           1  \n",
       "4           3           1  \n",
       "..        ...         ...  \n",
       "195         4           2  \n",
       "196         2           0  \n",
       "197         4           2  \n",
       "198         2           0  \n",
       "199         4           2  \n",
       "\n",
       "[200 rows x 8 columns]"
      ]
     },
     "execution_count": 28,
     "metadata": {},
     "output_type": "execute_result"
    }
   ],
   "source": [
    "data_scaled"
   ]
  },
  {
   "cell_type": "code",
   "execution_count": 29,
   "id": "e8f567ae",
   "metadata": {
    "execution": {
     "iopub.execute_input": "2021-12-14T09:41:10.152173Z",
     "iopub.status.busy": "2021-12-14T09:41:10.147708Z",
     "iopub.status.idle": "2021-12-14T09:41:10.164600Z",
     "shell.execute_reply": "2021-12-14T09:41:10.165215Z",
     "shell.execute_reply.started": "2021-12-14T09:40:11.285152Z"
    },
    "papermill": {
     "duration": 0.065754,
     "end_time": "2021-12-14T09:41:10.165460",
     "exception": false,
     "start_time": "2021-12-14T09:41:10.099706",
     "status": "completed"
    },
    "tags": []
   },
   "outputs": [],
   "source": [
    "from sklearn import decomposition\n",
    "\n",
    "pca=decomposition.PCA(n_components=2)\n",
    "\n",
    "pca_res=pca.fit_transform(data_scaled[cluster_cols])\n",
    "\n",
    "data_scaled['pc1'] = pca_res[:,0]\n",
    "data_scaled['pc2'] = pca_res[:,1]\n"
   ]
  },
  {
   "cell_type": "code",
   "execution_count": 30,
   "id": "68dd2f2a",
   "metadata": {
    "execution": {
     "iopub.execute_input": "2021-12-14T09:41:10.293710Z",
     "iopub.status.busy": "2021-12-14T09:41:10.267913Z",
     "iopub.status.idle": "2021-12-14T09:41:10.496090Z",
     "shell.execute_reply": "2021-12-14T09:41:10.495372Z",
     "shell.execute_reply.started": "2021-12-14T09:40:11.303740Z"
    },
    "papermill": {
     "duration": 0.283019,
     "end_time": "2021-12-14T09:41:10.496263",
     "exception": false,
     "start_time": "2021-12-14T09:41:10.213244",
     "status": "completed"
    },
    "tags": []
   },
   "outputs": [
    {
     "data": {
      "image/png": "[encoded data removed]",
      "text/plain": [
       "<Figure size 432x288 with 1 Axes>"
      ]
     },
     "metadata": {
      "needs_background": "light"
     },
     "output_type": "display_data"
    }
   ],
   "source": [
    "markers = ['x', '*', 'o','|']\n",
    "\n",
    "for clust in range(4):\n",
    "    temp = data_scaled[data_scaled.Clusters_4 == clust]\n",
    "    plt.scatter(temp.pc1, temp.pc2, marker=markers[clust], \\\n",
    "                label=\"Cluster \"+str(clust), \\\n",
    "                color='maroon')\n",
    "plt.xlabel('PC1')\n",
    "plt.ylabel('PC2')\n",
    "plt.show()"
   ]
  },
  {
   "cell_type": "code",
   "execution_count": 31,
   "id": "486f323e",
   "metadata": {
    "execution": {
     "iopub.execute_input": "2021-12-14T09:41:10.592041Z",
     "iopub.status.busy": "2021-12-14T09:41:10.591228Z",
     "iopub.status.idle": "2021-12-14T09:41:10.613098Z",
     "shell.execute_reply": "2021-12-14T09:41:10.613712Z",
     "shell.execute_reply.started": "2021-12-14T09:40:11.529631Z"
    },
    "papermill": {
     "duration": 0.072662,
     "end_time": "2021-12-14T09:41:10.613957",
     "exception": false,
     "start_time": "2021-12-14T09:41:10.541295",
     "status": "completed"
    },
    "tags": []
   },
   "outputs": [
    {
     "data": {
      "text/html": [
       "<div>\n",
       "<style scoped>\n",
       "    .dataframe tbody tr th:only-of-type {\n",
       "        vertical-align: middle;\n",
       "    }\n",
       "\n",
       "    .dataframe tbody tr th {\n",
       "        vertical-align: top;\n",
       "    }\n",
       "\n",
       "    .dataframe thead th {\n",
       "        text-align: right;\n",
       "    }\n",
       "</style>\n",
       "<table border=\"1\" class=\"dataframe\">\n",
       "  <thead>\n",
       "    <tr style=\"text-align: right;\">\n",
       "      <th></th>\n",
       "      <th>CustomerID</th>\n",
       "      <th>Gender</th>\n",
       "      <th>Age</th>\n",
       "      <th>Income</th>\n",
       "      <th>Spend_Score</th>\n",
       "      <th>Cluster</th>\n",
       "      <th>Clusters</th>\n",
       "      <th>Clusters_4</th>\n",
       "      <th>pc1</th>\n",
       "      <th>pc2</th>\n",
       "    </tr>\n",
       "  </thead>\n",
       "  <tbody>\n",
       "    <tr>\n",
       "      <th>0</th>\n",
       "      <td>1</td>\n",
       "      <td>Male</td>\n",
       "      <td>-1.424569</td>\n",
       "      <td>-1.738999</td>\n",
       "      <td>-0.434801</td>\n",
       "      <td>Low_Income</td>\n",
       "      <td>3</td>\n",
       "      <td>1</td>\n",
       "      <td>-0.615720</td>\n",
       "      <td>-1.763481</td>\n",
       "    </tr>\n",
       "    <tr>\n",
       "      <th>1</th>\n",
       "      <td>2</td>\n",
       "      <td>Male</td>\n",
       "      <td>-1.281035</td>\n",
       "      <td>-1.738999</td>\n",
       "      <td>1.195704</td>\n",
       "      <td>Low_Income</td>\n",
       "      <td>0</td>\n",
       "      <td>1</td>\n",
       "      <td>-1.665793</td>\n",
       "      <td>-1.820747</td>\n",
       "    </tr>\n",
       "    <tr>\n",
       "      <th>2</th>\n",
       "      <td>3</td>\n",
       "      <td>Female</td>\n",
       "      <td>-1.352802</td>\n",
       "      <td>-1.700830</td>\n",
       "      <td>-1.715913</td>\n",
       "      <td>Low_Income</td>\n",
       "      <td>3</td>\n",
       "      <td>1</td>\n",
       "      <td>0.337862</td>\n",
       "      <td>-1.674799</td>\n",
       "    </tr>\n",
       "    <tr>\n",
       "      <th>3</th>\n",
       "      <td>4</td>\n",
       "      <td>Female</td>\n",
       "      <td>-1.137502</td>\n",
       "      <td>-1.700830</td>\n",
       "      <td>1.040418</td>\n",
       "      <td>Low_Income</td>\n",
       "      <td>0</td>\n",
       "      <td>1</td>\n",
       "      <td>-1.456573</td>\n",
       "      <td>-1.772430</td>\n",
       "    </tr>\n",
       "    <tr>\n",
       "      <th>4</th>\n",
       "      <td>5</td>\n",
       "      <td>Female</td>\n",
       "      <td>-0.563369</td>\n",
       "      <td>-1.662660</td>\n",
       "      <td>-0.395980</td>\n",
       "      <td>Low_Income</td>\n",
       "      <td>3</td>\n",
       "      <td>1</td>\n",
       "      <td>-0.038465</td>\n",
       "      <td>-1.662740</td>\n",
       "    </tr>\n",
       "    <tr>\n",
       "      <th>...</th>\n",
       "      <td>...</td>\n",
       "      <td>...</td>\n",
       "      <td>...</td>\n",
       "      <td>...</td>\n",
       "      <td>...</td>\n",
       "      <td>...</td>\n",
       "      <td>...</td>\n",
       "      <td>...</td>\n",
       "      <td>...</td>\n",
       "      <td>...</td>\n",
       "    </tr>\n",
       "    <tr>\n",
       "      <th>195</th>\n",
       "      <td>196</td>\n",
       "      <td>Female</td>\n",
       "      <td>-0.276302</td>\n",
       "      <td>2.268791</td>\n",
       "      <td>1.118061</td>\n",
       "      <td>High_Earners</td>\n",
       "      <td>4</td>\n",
       "      <td>2</td>\n",
       "      <td>-1.093705</td>\n",
       "      <td>2.215577</td>\n",
       "    </tr>\n",
       "    <tr>\n",
       "      <th>196</th>\n",
       "      <td>197</td>\n",
       "      <td>Female</td>\n",
       "      <td>0.441365</td>\n",
       "      <td>2.497807</td>\n",
       "      <td>-0.861839</td>\n",
       "      <td>High_Earners</td>\n",
       "      <td>2</td>\n",
       "      <td>0</td>\n",
       "      <td>0.800448</td>\n",
       "      <td>2.540748</td>\n",
       "    </tr>\n",
       "    <tr>\n",
       "      <th>197</th>\n",
       "      <td>198</td>\n",
       "      <td>Male</td>\n",
       "      <td>-0.491602</td>\n",
       "      <td>2.497807</td>\n",
       "      <td>0.923953</td>\n",
       "      <td>High_Earners</td>\n",
       "      <td>4</td>\n",
       "      <td>2</td>\n",
       "      <td>-1.119709</td>\n",
       "      <td>2.445169</td>\n",
       "    </tr>\n",
       "    <tr>\n",
       "      <th>198</th>\n",
       "      <td>199</td>\n",
       "      <td>Male</td>\n",
       "      <td>-0.491602</td>\n",
       "      <td>2.917671</td>\n",
       "      <td>-1.250054</td>\n",
       "      <td>High_Earners</td>\n",
       "      <td>2</td>\n",
       "      <td>0</td>\n",
       "      <td>0.395411</td>\n",
       "      <td>2.946665</td>\n",
       "    </tr>\n",
       "    <tr>\n",
       "      <th>199</th>\n",
       "      <td>200</td>\n",
       "      <td>Male</td>\n",
       "      <td>-0.635135</td>\n",
       "      <td>2.917671</td>\n",
       "      <td>1.273347</td>\n",
       "      <td>High_Earners</td>\n",
       "      <td>4</td>\n",
       "      <td>2</td>\n",
       "      <td>-1.488004</td>\n",
       "      <td>2.847018</td>\n",
       "    </tr>\n",
       "  </tbody>\n",
       "</table>\n",
       "<p>200 rows × 10 columns</p>\n",
       "</div>"
      ],
      "text/plain": [
       "     CustomerID  Gender       Age    Income  Spend_Score       Cluster  \\\n",
       "0             1    Male -1.424569 -1.738999    -0.434801    Low_Income   \n",
       "1             2    Male -1.281035 -1.738999     1.195704    Low_Income   \n",
       "2             3  Female -1.352802 -1.700830    -1.715913    Low_Income   \n",
       "3             4  Female -1.137502 -1.700830     1.040418    Low_Income   \n",
       "4             5  Female -0.563369 -1.662660    -0.395980    Low_Income   \n",
       "..          ...     ...       ...       ...          ...           ...   \n",
       "195         196  Female -0.276302  2.268791     1.118061  High_Earners   \n",
       "196         197  Female  0.441365  2.497807    -0.861839  High_Earners   \n",
       "197         198    Male -0.491602  2.497807     0.923953  High_Earners   \n",
       "198         199    Male -0.491602  2.917671    -1.250054  High_Earners   \n",
       "199         200    Male -0.635135  2.917671     1.273347  High_Earners   \n",
       "\n",
       "     Clusters  Clusters_4       pc1       pc2  \n",
       "0           3           1 -0.615720 -1.763481  \n",
       "1           0           1 -1.665793 -1.820747  \n",
       "2           3           1  0.337862 -1.674799  \n",
       "3           0           1 -1.456573 -1.772430  \n",
       "4           3           1 -0.038465 -1.662740  \n",
       "..        ...         ...       ...       ...  \n",
       "195         4           2 -1.093705  2.215577  \n",
       "196         2           0  0.800448  2.540748  \n",
       "197         4           2 -1.119709  2.445169  \n",
       "198         2           0  0.395411  2.946665  \n",
       "199         4           2 -1.488004  2.847018  \n",
       "\n",
       "[200 rows x 10 columns]"
      ]
     },
     "execution_count": 31,
     "metadata": {},
     "output_type": "execute_result"
    }
   ],
   "source": [
    "data_scaled"
   ]
  },
  {
   "cell_type": "code",
   "execution_count": 32,
   "id": "c56e03e3",
   "metadata": {
    "execution": {
     "iopub.execute_input": "2021-12-14T09:41:10.716848Z",
     "iopub.status.busy": "2021-12-14T09:41:10.716073Z",
     "iopub.status.idle": "2021-12-14T09:41:10.728888Z",
     "shell.execute_reply": "2021-12-14T09:41:10.728098Z",
     "shell.execute_reply.started": "2021-12-14T09:40:11.556981Z"
    },
    "papermill": {
     "duration": 0.068919,
     "end_time": "2021-12-14T09:41:10.729077",
     "exception": false,
     "start_time": "2021-12-14T09:41:10.660158",
     "status": "completed"
    },
    "tags": []
   },
   "outputs": [
    {
     "data": {
      "text/html": [
       "<div>\n",
       "<style scoped>\n",
       "    .dataframe tbody tr th:only-of-type {\n",
       "        vertical-align: middle;\n",
       "    }\n",
       "\n",
       "    .dataframe tbody tr th {\n",
       "        vertical-align: top;\n",
       "    }\n",
       "\n",
       "    .dataframe thead th {\n",
       "        text-align: right;\n",
       "    }\n",
       "</style>\n",
       "<table border=\"1\" class=\"dataframe\">\n",
       "  <thead>\n",
       "    <tr style=\"text-align: right;\">\n",
       "      <th></th>\n",
       "      <th>Age</th>\n",
       "      <th>Income</th>\n",
       "      <th>Spend_Score</th>\n",
       "    </tr>\n",
       "    <tr>\n",
       "      <th>Clusters_4</th>\n",
       "      <th></th>\n",
       "      <th></th>\n",
       "      <th></th>\n",
       "    </tr>\n",
       "  </thead>\n",
       "  <tbody>\n",
       "    <tr>\n",
       "      <th>0</th>\n",
       "      <td>39.368421</td>\n",
       "      <td>86.500000</td>\n",
       "      <td>19.578947</td>\n",
       "    </tr>\n",
       "    <tr>\n",
       "      <th>1</th>\n",
       "      <td>25.438596</td>\n",
       "      <td>40.000000</td>\n",
       "      <td>60.298246</td>\n",
       "    </tr>\n",
       "    <tr>\n",
       "      <th>2</th>\n",
       "      <td>32.875000</td>\n",
       "      <td>86.100000</td>\n",
       "      <td>81.525000</td>\n",
       "    </tr>\n",
       "    <tr>\n",
       "      <th>3</th>\n",
       "      <td>53.984615</td>\n",
       "      <td>47.707692</td>\n",
       "      <td>39.969231</td>\n",
       "    </tr>\n",
       "  </tbody>\n",
       "</table>\n",
       "</div>"
      ],
      "text/plain": [
       "                  Age     Income  Spend_Score\n",
       "Clusters_4                                   \n",
       "0           39.368421  86.500000    19.578947\n",
       "1           25.438596  40.000000    60.298246\n",
       "2           32.875000  86.100000    81.525000\n",
       "3           53.984615  47.707692    39.969231"
      ]
     },
     "execution_count": 32,
     "metadata": {},
     "output_type": "execute_result"
    }
   ],
   "source": [
    "df['Clusters_4']=data_scaled.Clusters_4\n",
    "df.groupby('Clusters_4')[['Age','Income','Spend_Score']].mean()"
   ]
  },
  {
   "cell_type": "code",
   "execution_count": 33,
   "id": "4ec28318",
   "metadata": {
    "execution": {
     "iopub.execute_input": "2021-12-14T09:41:10.826914Z",
     "iopub.status.busy": "2021-12-14T09:41:10.826075Z",
     "iopub.status.idle": "2021-12-14T09:41:11.064512Z",
     "shell.execute_reply": "2021-12-14T09:41:11.063743Z",
     "shell.execute_reply.started": "2021-12-14T09:40:11.574108Z"
    },
    "papermill": {
     "duration": 0.289705,
     "end_time": "2021-12-14T09:41:11.064683",
     "exception": false,
     "start_time": "2021-12-14T09:41:10.774978",
     "status": "completed"
    },
    "tags": []
   },
   "outputs": [
    {
     "data": {
      "image/png": "[encoded data removed]",
      "text/plain": [
       "<Figure size 432x288 with 1 Axes>"
      ]
     },
     "metadata": {
      "needs_background": "light"
     },
     "output_type": "display_data"
    }
   ],
   "source": [
    "df.groupby('Clusters_4')[['Age','Income','Spend_Score']].mean().plot.bar(color=['lightgray','darkgray','black'])\n",
    "plt.show()"
   ]
  },
  {
   "cell_type": "markdown",
   "id": "bf2fd7d7",
   "metadata": {
    "papermill": {
     "duration": 0.046827,
     "end_time": "2021-12-14T09:41:11.158958",
     "exception": false,
     "start_time": "2021-12-14T09:41:11.112131",
     "status": "completed"
    },
    "tags": []
   },
   "source": [
    "One way to describe the clusters is as follows: \n",
    "\n",
    "Cluster 0: Middle-aged penny pinchers (high income, low spend)\n",
    "\n",
    "Cluster 1: Young high rollers (younger age, high income, high spend)\n",
    "\n",
    "Cluster 2: Young aspirers (low income, high spend)\n",
    "\n",
    "Cluster 3: Old average Joes (average income, average spend"
   ]
  }
 ],
 "metadata": {
  "kernelspec": {
   "display_name": "Python 3",
   "language": "python",
   "name": "python3"
  },
  "language_info": {
   "codemirror_mode": {
    "name": "ipython",
    "version": 3
   },
   "file_extension": ".py",
   "mimetype": "text/x-python",
   "name": "python",
   "nbconvert_exporter": "python",
   "pygments_lexer": "ipython3",
   "version": "3.7.12"
  },
  "papermill": {
   "default_parameters": {},
   "duration": 19.619118,
   "end_time": "2021-12-14T09:41:12.322094",
   "environment_variables": {},
   "exception": null,
   "input_path": "__notebook__.ipynb",
   "output_path": "__notebook__.ipynb",
   "parameters": {},
   "start_time": "2021-12-14T09:40:52.702976",
   "version": "2.3.3"
  }
 },
 "nbformat": 4,
 "nbformat_minor": 5
}
